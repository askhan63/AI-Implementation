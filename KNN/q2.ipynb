{
 "cells": [
  {
   "cell_type": "markdown",
   "metadata": {},
   "source": [
    "# Q2\n",
    "## Dataset: Iris with 4 coulumns"
   ]
  },
  {
   "cell_type": "markdown",
   "metadata": {},
   "source": [
    "1. Imports: "
   ]
  },
  {
   "cell_type": "code",
   "execution_count": 3,
   "metadata": {},
   "outputs": [],
   "source": [
    "import pandas as pd"
   ]
  },
  {
   "cell_type": "markdown",
   "metadata": {},
   "source": [
    "2. Reading data"
   ]
  },
  {
   "cell_type": "code",
   "execution_count": 4,
   "metadata": {},
   "outputs": [],
   "source": [
    "# Assuming you have a dataset named 'data.csv'\n",
    "df = pd.read_csv('iris_dataset.csv')"
   ]
  },
  {
   "cell_type": "markdown",
   "metadata": {},
   "source": [
    " a. Only last two values"
   ]
  },
  {
   "cell_type": "code",
   "execution_count": 5,
   "metadata": {},
   "outputs": [
    {
     "name": "stdout",
     "output_type": "stream",
     "text": [
      "     sepal length (cm)  sepal width (cm)  petal length (cm)  petal width (cm)  \\\n",
      "148                6.2               3.4                5.4               2.3   \n",
      "149                5.9               3.0                5.1               1.8   \n",
      "\n",
      "             target  \n",
      "148  Iris-virginica  \n",
      "149  Iris-virginica  \n"
     ]
    }
   ],
   "source": [
    "# a. Only last two values\n",
    "print(df.tail(2))"
   ]
  },
  {
   "cell_type": "markdown",
   "metadata": {},
   "source": [
    "b. Starting from 1st Value to the 5th"
   ]
  },
  {
   "cell_type": "code",
   "execution_count": 6,
   "metadata": {},
   "outputs": [
    {
     "name": "stdout",
     "output_type": "stream",
     "text": [
      "   sepal length (cm)  sepal width (cm)  petal length (cm)  petal width (cm)  \\\n",
      "0                5.1               3.5                1.4               0.2   \n",
      "1                4.9               3.0                1.4               0.2   \n",
      "2                4.7               3.2                1.3               0.2   \n",
      "3                4.6               3.1                1.5               0.2   \n",
      "4                5.0               3.6                1.4               0.2   \n",
      "\n",
      "        target  \n",
      "0  Iris-setosa  \n",
      "1  Iris-setosa  \n",
      "2  Iris-setosa  \n",
      "3  Iris-setosa  \n",
      "4  Iris-setosa  \n"
     ]
    }
   ],
   "source": [
    "# b. Starting from 1st Value to the 5th\n",
    "print(df.iloc[0:5])"
   ]
  },
  {
   "cell_type": "markdown",
   "metadata": {},
   "source": [
    "c. 2nd and 4th Value"
   ]
  },
  {
   "cell_type": "code",
   "execution_count": 7,
   "metadata": {},
   "outputs": [
    {
     "name": "stdout",
     "output_type": "stream",
     "text": [
      "   sepal length (cm)  sepal width (cm)  petal length (cm)  petal width (cm)  \\\n",
      "1                4.9               3.0                1.4               0.2   \n",
      "3                4.6               3.1                1.5               0.2   \n",
      "\n",
      "        target  \n",
      "1  Iris-setosa  \n",
      "3  Iris-setosa  \n"
     ]
    }
   ],
   "source": [
    "# c. 2nd and 4th Value\n",
    "print(df.iloc[[1, 3]])"
   ]
  },
  {
   "cell_type": "markdown",
   "metadata": {},
   "source": [
    "d. Only 20 values in a row and All columns"
   ]
  },
  {
   "cell_type": "code",
   "execution_count": 8,
   "metadata": {},
   "outputs": [
    {
     "name": "stdout",
     "output_type": "stream",
     "text": [
      "    sepal length (cm)  sepal width (cm)  petal length (cm)  petal width (cm)  \\\n",
      "0                 5.1               3.5                1.4               0.2   \n",
      "1                 4.9               3.0                1.4               0.2   \n",
      "2                 4.7               3.2                1.3               0.2   \n",
      "3                 4.6               3.1                1.5               0.2   \n",
      "4                 5.0               3.6                1.4               0.2   \n",
      "5                 5.4               3.9                1.7               0.4   \n",
      "6                 4.6               3.4                1.4               0.3   \n",
      "7                 5.0               3.4                1.5               0.2   \n",
      "8                 4.4               2.9                1.4               0.2   \n",
      "9                 4.9               3.1                1.5               0.1   \n",
      "10                5.4               3.7                1.5               0.2   \n",
      "11                4.8               3.4                1.6               0.2   \n",
      "12                4.8               3.0                1.4               0.1   \n",
      "13                4.3               3.0                1.1               0.1   \n",
      "14                5.8               4.0                1.2               0.2   \n",
      "15                5.7               4.4                1.5               0.4   \n",
      "16                5.4               3.9                1.3               0.4   \n",
      "17                5.1               3.5                1.4               0.3   \n",
      "18                5.7               3.8                1.7               0.3   \n",
      "19                5.1               3.8                1.5               0.3   \n",
      "\n",
      "         target  \n",
      "0   Iris-setosa  \n",
      "1   Iris-setosa  \n",
      "2   Iris-setosa  \n",
      "3   Iris-setosa  \n",
      "4   Iris-setosa  \n",
      "5   Iris-setosa  \n",
      "6   Iris-setosa  \n",
      "7   Iris-setosa  \n",
      "8   Iris-setosa  \n",
      "9   Iris-setosa  \n",
      "10  Iris-setosa  \n",
      "11  Iris-setosa  \n",
      "12  Iris-setosa  \n",
      "13  Iris-setosa  \n",
      "14  Iris-setosa  \n",
      "15  Iris-setosa  \n",
      "16  Iris-setosa  \n",
      "17  Iris-setosa  \n",
      "18  Iris-setosa  \n",
      "19  Iris-setosa  \n"
     ]
    }
   ],
   "source": [
    "# d. Only 20 values in a row and All columns\n",
    "print(df.iloc[0:20])"
   ]
  },
  {
   "cell_type": "markdown",
   "metadata": {},
   "source": [
    "e. head Function"
   ]
  },
  {
   "cell_type": "code",
   "execution_count": 9,
   "metadata": {},
   "outputs": [
    {
     "name": "stdout",
     "output_type": "stream",
     "text": [
      "   sepal length (cm)  sepal width (cm)  petal length (cm)  petal width (cm)  \\\n",
      "0                5.1               3.5                1.4               0.2   \n",
      "1                4.9               3.0                1.4               0.2   \n",
      "2                4.7               3.2                1.3               0.2   \n",
      "3                4.6               3.1                1.5               0.2   \n",
      "4                5.0               3.6                1.4               0.2   \n",
      "\n",
      "        target  \n",
      "0  Iris-setosa  \n",
      "1  Iris-setosa  \n",
      "2  Iris-setosa  \n",
      "3  Iris-setosa  \n",
      "4  Iris-setosa  \n"
     ]
    }
   ],
   "source": [
    "# e. head Function\n",
    "print(df.head())"
   ]
  }
 ],
 "metadata": {
  "kernelspec": {
   "display_name": "Python 3",
   "language": "python",
   "name": "python3"
  },
  "language_info": {
   "codemirror_mode": {
    "name": "ipython",
    "version": 3
   },
   "file_extension": ".py",
   "mimetype": "text/x-python",
   "name": "python",
   "nbconvert_exporter": "python",
   "pygments_lexer": "ipython3",
   "version": "3.11.3"
  },
  "orig_nbformat": 4
 },
 "nbformat": 4,
 "nbformat_minor": 2
}
