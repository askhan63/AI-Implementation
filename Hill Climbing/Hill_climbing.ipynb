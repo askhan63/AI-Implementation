{
  "cells": [
    {
      "attachments": {},
      "cell_type": "markdown",
      "metadata": {
        "id": "J6n3Cr0juBic"
      },
      "source": [
        "# Midterm Lab Exam\n",
        "## Due date: 22/05/2023\n",
        "\n",
        "\n",
        "\n",
        " In this eaxm you have to solve the n-queen problem using steepest ascent hil-climbing. Each and everything is thoroughly explianed. You need to write your code at the palces where __None__ is written. "
      ]
    },
    {
      "attachments": {},
      "cell_type": "markdown",
      "metadata": {
        "id": "Jno5euoQuBif"
      },
      "source": [
        "**Import the necessary libraries** "
      ]
    },
    {
      "cell_type": "code",
      "execution_count": 2,
      "metadata": {
        "id": "Ql9hhSakuBih"
      },
      "outputs": [],
      "source": [
        "import numpy as np\n",
        "import random as rnd"
      ]
    },
    {
      "attachments": {},
      "cell_type": "markdown",
      "metadata": {
        "id": "FiZNZnbnuBij"
      },
      "source": [
        "##Steepest Ascent Hill-Climbing\n",
        "The hill-climbing search algorithm is given below. It keeps track of one current state and on each iteration moves to the neighboring state with highest value—that is, it heads in the direction that provides the steepest ascent. It terminates when it reaches a “peak” where no neighbor has a higher value. Hill climbing does not look ahead beyond the immediate neighbors of the current state. This resembles trying to find the top of Mount Everest in a thick fog while suffering from amnesia. \n",
        "\n",
        "\n",
        "\n",
        "\n",
        "- C=initial state\n",
        "- while do:\n",
        ">- N:=a higher-valued successor state of the current, C\n",
        ">>- If $h(N)\\le h(C)$ then:\n",
        ">>>-\t\t\t\treturn C\n",
        ">>-\t\t$C:= N$\n",
        "\t\n",
        "\n",
        "\t\t\n",
        "\n",
        "### 8-queens Problem\n",
        "\n",
        "8-queens is a classic computer science problem. To find possible arrangements of 8-queens on a standard $8\\times 8 $ chessboard such that no queens end up in an attacking configuration. Now, if one knows the basics of chess, one can say that a queen can travel either horizontally, vertically, or diagonally. Hence, for 2 or more queens to be in an attacking state, they have to lie either horizontally or vertically or diagonally in-line with the other queen. \n",
        "\n",
        "\n",
        "\n",
        "- **State representation:** In the 8-queen problem, an individual (state) can be represented by a string of digits 0 to 7, that represents the position of the 8 queens in the 8 columns. **Illustration:** a particular state can be represented as a list [5,7,1,3,0,6,4,2]. __Note:__ In python the first row have index 0 and $n^{th}$ row have the index $n-1$. \n",
        "\n",
        "\n",
        "\n"
      ]
    },
    {
      "attachments": {},
      "cell_type": "markdown",
      "metadata": {
        "id": "hAIeoM78uBil"
      },
      "source": [
        "**Implementation of evaluation function (h):** \n",
        "The number of non-attacking queens in a given configration will be considered as the value of the evaluation function.Thus the n-queen problem will be treated as a maximization problem. The configration which has highest evaluation value will be the best solution and vice-versa. The evaluation ,$h$, can be given as: \n",
        " \n",
        " $h=max_{attacking}-current_{attacking}$\n",
        " \n",
        "  The $current_{attacking}$ represents the number attacking pairs of queens in the given configration (state) while the $max_{attacking}$ represents the maximum possible pairs of attaccking queens. For $n$-queens the $max_{attacking}$ can be given as:\n",
        " \n",
        " $max_{attacking}=\\frac{n(n-1)}{2}$\n",
        " \n",
        "As we mentioned earlier that a state can be represented as a list of digits. Let c=[3,2,1,3] represents an individual (state). Generally, a location of a particular queen can be given as $(i,j)$, where $i$ is the index and $j$ is the value at that index.  For example, in the given state 'c' the location of first queen can be represented as (0,3). We can compute the $current_{attacking}$ in a very simple way. Consider two queens at location (p,r) and (s,t) respectively. The queens will be considered attacking if any of the two conditons hold. 1) $r=t$ or .2) $|p-s|=|r-t|$\n",
        "\n",
        " This function will take a __state__ as an input and will return the __eval_value__, the number of nonattacking pairs of queens. \n",
        "\n",
        " **This function is implemented for you**"
      ]
    },
    {
      "cell_type": "code",
      "execution_count": 1,
      "metadata": {
        "id": "d2GrJuXmuBim"
      },
      "outputs": [],
      "source": [
        "def h(state): \n",
        "    n=len(state)# n repesents the number of queens OR length of the vector state\n",
        "    current_attacking=0\n",
        "    for i in range(n):\n",
        "        for j in range(i+1,n):\n",
        "            if state[i]==state[j] or abs(i-j)==abs(state[i]-state[j]):\n",
        "                current_attacking+=1\n",
        "    max_attacking=n*(n-1)/2\n",
        "    eval_value=max_attacking-current_attacking            \n",
        "    return eval_value\n"
      ]
    },
    {
      "cell_type": "code",
      "execution_count": 2,
      "metadata": {
        "colab": {
          "base_uri": "https://localhost:8080/"
        },
        "id": "4SKsvdSjHBlB",
        "outputId": "d8293389-f073-40b9-afad-681e72f68035"
      },
      "outputs": [
        {
          "name": "stdout",
          "output_type": "stream",
          "text": [
            "28.0\n"
          ]
        }
      ],
      "source": [
        "state=[5,7,1,3,0,6,4,2]\n",
        "print(h(state))"
      ]
    },
    {
      "attachments": {},
      "cell_type": "markdown",
      "metadata": {
        "id": "V_GCNIDLuBin"
      },
      "source": [
        "**Implementation of the Neighor() function:** \n",
        "This function will accept a __state__ as an input and will return a list of neighbors. A particular neighbor will be computed by moving a queen one row up OR down in the same column. If a queen is in the first row then we cannot move it up. Similarly, if the queen is in the last row then we cannot move it down. In the middle row the up and down moves decision may be taken arbitrary. "
      ]
    },
    {
      "cell_type": "code",
      "execution_count": 3,
      "metadata": {
        "id": "ElTJ41BLuBio"
      },
      "outputs": [],
      "source": [
        "def Neighbor(state):\n",
        "    \n",
        "    neighbors = []\n",
        "    for col in range(len(state)):\n",
        "        # Move queen one row up if it's not on the top row\n",
        "        if state[col] > 0:\n",
        "            # make copy of state\n",
        "            neighbor = state.copy()\n",
        "            # decrement because move-up\n",
        "            neighbor[col] -= 1\n",
        "            # add state to neighbors\n",
        "            neighbors.append(neighbor)\n",
        "        # Move queen one row down if it's not on the bottom row\n",
        "        if state[col] < len(state) - 1:\n",
        "            #make copy of state\n",
        "            neighbor = state.copy()\n",
        "            # increment because move-down\n",
        "            neighbor[col] += 1\n",
        "            #add state to neighbors\n",
        "            neighbors.append(neighbor)\n",
        "    return neighbors"
      ]
    },
    {
      "cell_type": "code",
      "execution_count": 5,
      "metadata": {
        "id": "q-3wurzVuBir"
      },
      "outputs": [],
      "source": [
        "def Hill_Climbing(state):\n",
        "     #initiLIZED current state with start state\n",
        "    current_state = state\n",
        "     #get hueristics value  of current state\n",
        "    current_h_value = h(current_state)\n",
        "\n",
        "    while  current_h_value<=28:\n",
        "        #get neighbors of current state\n",
        "        neighbors = Neighbor(current_state)\n",
        "\n",
        "        \n",
        "        # Track whether we have found a better state\n",
        "        found_better_state = False\n",
        "        \n",
        "        # Explore the neighbors\n",
        "        for neighbor in neighbors:\n",
        "            neighbor_h=h(neighbor)\n",
        "            #checking whather the neighbour is greater than current\n",
        "            if  current_h_value < neighbor_h :\n",
        "                # if neighbier is greather than current replacing current with the neighbour\n",
        "                current_h_value = h(neighbor)\n",
        "                current_state = neighbor\n",
        "                found_better_state = True\n",
        "        \n",
        "        # If we didn't find a better state, return the current state\n",
        "        if not found_better_state:\n",
        "            return current_state\n"
      ]
    },
    {
      "cell_type": "code",
      "execution_count": 6,
      "metadata": {
        "colab": {
          "base_uri": "https://localhost:8080/",
          "height": 307
        },
        "id": "oPoy2kfcuBiu",
        "outputId": "6aaa8ad4-8ef7-4487-ba70-98433b82d381"
      },
      "outputs": [
        {
          "name": "stdout",
          "output_type": "stream",
          "text": [
            "-----------Test 01-----------\n",
            "\n",
            "Initial State :  [6, 7, 2, 3, 0, 5, 4, 3]\n",
            "Heuritic of initial state :  17.0\n",
            "Local maxima :  [5, 7, 1, 3, 0, 6, 4, 2]\n",
            "Heuritic of found state :  28.0\n",
            "\n",
            "-----------Test 02-----------\n",
            "\n",
            "Initial State :  [0, 1, 2, 3, 4, 5, 6, 7]\n",
            "Heuritic of initial state :  0.0\n",
            "Local maxima :  [2, 0, 1, 4, 5, 5, 6, 7]\n",
            "Heuritic of found state :  22.0\n",
            "\n",
            "-----------Test 03-----------\n",
            "\n",
            "Initial State :  [5, 7, 1, 3, 0, 6, 4, 2]\n",
            "Heuritic of initial state :  28.0\n",
            "Local maxima :  [5, 7, 1, 3, 0, 6, 4, 2]\n",
            "Heuritic of found state :  28.0\n"
          ]
        }
      ],
      "source": [
        "print(\"-----------Test 01-----------\\n\")\n",
        "state1 = [6, 7, 2, 3, 0, 5, 4, 3]\n",
        "print(\"Initial State : \", state1)\n",
        "print(\"Heuritic of initial state : \",h(state1))\n",
        "print(\"Local maxima : \",Hill_Climbing(state1)) # Print the solution\n",
        "x = Hill_Climbing(state1)\n",
        "print(\"Heuritic of found state : \",h(x))\n",
        "print(\"\\n-----------Test 02-----------\\n\")\n",
        "state2=[0,1,2,3,4,5,6,7]\n",
        "print(\"Initial State : \", state2)\n",
        "print(\"Heuritic of initial state : \",h(state2))\n",
        "print(\"Local maxima : \",Hill_Climbing(state2)) # Print the solution\n",
        "x = Hill_Climbing(state2)\n",
        "print(\"Heuritic of found state : \",h(x))\n",
        "print(\"\\n-----------Test 03-----------\\n\")\n",
        "state3=[5,7,1,3,0,6,4,2]\n",
        "print(\"Initial State : \", state3)\n",
        "print(\"Heuritic of initial state : \",h(state3))\n",
        "print(\"Local maxima : \",Hill_Climbing(state3)) # Print the solution\n",
        "x = Hill_Climbing(state3)\n",
        "print(\"Heuritic of found state : \",h(x))\n"
      ]
    },
    {
      "cell_type": "code",
      "execution_count": null,
      "metadata": {
        "id": "aLXqGhhLuBiu"
      },
      "outputs": [],
      "source": []
    }
  ],
  "metadata": {
    "colab": {
      "provenance": []
    },
    "kernelspec": {
      "display_name": "Python 3",
      "language": "python",
      "name": "python3"
    },
    "language_info": {
      "codemirror_mode": {
        "name": "ipython",
        "version": 3
      },
      "file_extension": ".py",
      "mimetype": "text/x-python",
      "name": "python",
      "nbconvert_exporter": "python",
      "pygments_lexer": "ipython3",
      "version": "3.11.3"
    }
  },
  "nbformat": 4,
  "nbformat_minor": 0
}
