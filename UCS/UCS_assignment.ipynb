{
  "cells": [
    {
      "attachments": {},
      "cell_type": "markdown",
      "metadata": {
        "id": "-7BBL9HffywY"
      },
      "source": [
        "\n",
        "# Implementatiion of Uniform Cost Search (UCS)"
      ]
    },
    {
      "attachments": {},
      "cell_type": "markdown",
      "metadata": {
        "id": "65DGM0Y3fywb"
      },
      "source": [
        "UCS is a type of uninformed searching algorithm where you should start traversing from a selected node (source or starting node) and exploring the neighbour nodes (nodes which are directly connected to source node) on the basis of path cost $g(n)$. Where $g(n)$ is the distance between a given node $n$ and the start node. The UCS explore the next node on the basis of minimum path cost. The UCS use a periority queue to manintain the forntier. \n",
        "The detailed algorithm of the UCS is given below:\n",
        "<img src=\"UCS.png\" style=\"width:700px;\">\n",
        "<caption><center> <u> <font color='purple'> **BSF Algorithm** </u></center></caption>\n",
        "<\n"
      ]
    },
    {
      "attachments": {},
      "cell_type": "markdown",
      "metadata": {
        "id": "y7i6GUr-fywe"
      },
      "source": [
        "The following dictionary contain a map of different cities. The keys in the dictionary represent the source city and the values list conatian its neighbors. For example, in $\"Abbottabad\": dict([(\"Mansehra\",24),(\"Muree\",71),(\"Haripur\",41),]$ 'Abbottabad' is the source city and $\"Mansehra\",\"Muree, and \"Haripur\"$ are its neighbors. The integer value represents the distance between the two cities. For example $(\"Mansehra\",24),(\"Muree\",71),(\"Haripur\",41)$, means that the distance Abbottabad and Mansehra is 24 kilometers, Abbottabad and Murre is 71 kilometers, and Abbottabad and Haripur is 41 kilometers."
      ]
    },
    {
      "cell_type": "code",
      "execution_count": 13,
      "metadata": {
        "id": "K17yWx27fywg"
      },
      "outputs": [],
      "source": [
        "Pakistan = {\"Abbottabad\": dict([(\"Mansehra\",24),(\"Muree\",71),(\"Haripur\",41),]), \n",
        "\"Mansehra\": dict([(\"Attar Shisha\",14),(\"Abbottabad\",24),(\"Besham\",121),]), \n",
        "\"Haripur\": dict([(\"Swabi\",99),(\"Hassan Abdal\",33),(\"Abbottabad\",41)]), \n",
        "\"Muree\": dict([(\"Muzzafar Abad\",68),(\"Islamabad\",49), (\"Abbottabad\",71)]), \n",
        "\"Attar Shisha\": dict([(\"Mansehra\",14),(\"Muzzafar Abad\",34),(\"Naran\",106),]), \n",
        "\"Besham\": dict([(\"Mansehra\", 121),(\"Khwazakhela\",66),(\"Chilas\",199),]), \n",
        "\"Hassan Abdal\": dict([(\"Haripur\",33),(\"Jehangira\",63),(\"Taxila\",16),]), \n",
        "\"Swabi\": dict([(\"Jehangira\",45),(\"Haripur\",99),]), \n",
        "\"Islamabad\": dict([(\"Muree\",49),(\"Rawalpindi\",19),]), \n",
        "\"Muzzafar Abad\": dict([(\"Attar Shisha\",34),(\"Muree\",68),]), \n",
        "\"Khwazakhela\": dict([(\"Kalam\",69),(\"Mingora\",27),(\"Besham\",66),]), \n",
        "\"Chilas\": dict([(\"Gilgit\",133),(\"Naran\",113),(\"Besham\",199),]), \n",
        "\"Jehangira\": dict([(\"Nowshera\",31),(\"Swabi\",45),(\"Hassan Abdal\",63),]), \n",
        "\"Taxila\": dict([(\"Rawalpindi\",29),(\"Hassan Abdal\",16),]), \n",
        "\"Rawalpindi\": dict([(\"Taxila\",29),(\"Islamabad\",19),]), \n",
        "\"Mingora\": dict([(\"Nowshera\",127),(\"Khwazakhela\",27),]), \n",
        "\"Kalam\": dict([(\"Khwazakhela\",69),]), \n",
        "\"Naran\": dict([(\"Attar Shisha\",106),(\"Chilas\",113),]), \n",
        "\"Gilgit\": dict([(\"Chilas\",133),]), \n",
        "\"Nowshera\": dict([(\"Mingora\",127),(\"Peshawar\",40),(\"Jehangira\",31),]), \n",
        "\"Peshawar\": dict([(\"Nowshera\",40),]), \n",
        "}\n"
      ]
    },
    {
      "attachments": {},
      "cell_type": "markdown",
      "metadata": {
        "id": "7fN71MHpfywi"
      },
      "source": [
        "This function will return the neighbors of a given city. For eaxmple, if we pass \"Abbottabad\" the fuction should return $[(\"Mansehra\",24),(\"Muree\",71),(\"Haripur\",41),]$"
      ]
    },
    {
      "cell_type": "code",
      "execution_count": 14,
      "metadata": {
        "id": "IXOQQxMzfywj"
      },
      "outputs": [],
      "source": [
        "def neighbors(city, graph):\n",
        "    '''return a list of cities directly accessable from a given city '''\n",
        "    return graph[city] # Return the neighbors of the city\n"
      ]
    },
    {
      "cell_type": "code",
      "execution_count": 15,
      "metadata": {
        "colab": {
          "base_uri": "https://localhost:8080/"
        },
        "id": "B5C2QD0-g-EB",
        "outputId": "4ac46621-4a71-4b7f-c7c4-e2e5358b66ae"
      },
      "outputs": [
        {
          "name": "stdout",
          "output_type": "stream",
          "text": [
            "{'Mansehra': 24, 'Muree': 71, 'Haripur': 41}\n"
          ]
        }
      ],
      "source": [
        "print(neighbors('Abbottabad', Pakistan))"
      ]
    },
    {
      "attachments": {},
      "cell_type": "markdown",
      "metadata": {
        "id": "T86VRy4zfywl"
      },
      "source": [
        "This function will check whether a given city is the goal or not. "
      ]
    },
    {
      "cell_type": "code",
      "execution_count": 16,
      "metadata": {
        "id": "semjaAoVfywm"
      },
      "outputs": [],
      "source": [
        "def goaltest(state, goal):\n",
        "    if state==goal: \n",
        "        return True\n",
        "    else:\n",
        "        return False\n",
        "     "
      ]
    },
    {
      "attachments": {},
      "cell_type": "markdown",
      "metadata": {
        "id": "EGtYGHYzfywn"
      },
      "source": [
        "If a state already exist in the frontier with higher cost then it will be replaced with low cost. The following function is doing the same"
      ]
    },
    {
      "cell_type": "code",
      "execution_count": 17,
      "metadata": {
        "id": "rS-VUdNCfywo"
      },
      "outputs": [],
      "source": [
        "def replace_better(child, children, current_cost, frontier,frontier_lst):\n",
        "            print('new state {}'.format(child))\n",
        "            # code to check cities with less path cost form \n",
        "            # the frontier\n",
        "            idx = frontier_lst.index(child)\n",
        "            print('{} already in frontier with pathcost: {}'.format(child,frontier[idx][0]))\n",
        "            if children[child]+current_cost < frontier[idx][0]:\n",
        "                print('{} updated with pathcost:{}'.format(child, children[child]+current_cost))\n",
        "                frontier[idx] = [children[child] + current_cost, child]\n",
        "                        \n"
      ]
    },
    {
      "cell_type": "code",
      "execution_count": 22,
      "metadata": {
        "id": "gAPJQgL7fywq"
      },
      "outputs": [],
      "source": [
        "\n",
        "\n",
        "def ucs(start, goal, graph):    \n",
        "    if goaltest(start,goal):\n",
        "        print('goal reached')\n",
        "    else:\n",
        "        path_full=[]\n",
        "        frontier = [] #Inintalize as an empty  list\n",
        "        explored = [] #Inintalize as an empty  list\n",
        "        #Any node will contain [pathcost,state]\n",
        "        node=[0, start] # the start state have g(n)=0\n",
        "        path_full.append(start)\n",
        "        frontier.append(node) \n",
        "        while frontier:\n",
        "            frontier.sort()  # sort the frontier using sort() function\n",
        "            print('frontier after sort:',frontier)\n",
        "            node = frontier.pop(0)  # Dequeue a node from the frontier \n",
        "            state = node[1]  # Keep the state of the node in variable state \n",
        "            cost = node[0]  # Keep cost of the node in varaible cost\n",
        "            print('current:',state)\n",
        "            #print('frontier after pop:',frontier)\n",
        "            print('explored',explored)\n",
        "            print('*'*40)\n",
        "            if goaltest(state ,goal ):\n",
        "                path_full.append(state)\n",
        "                print('goal: {} reached with pathcost:{}'.format(state,cost))\n",
        "                print(\"The Path is : \",path_full)\n",
        "                return\n",
        "            explored.append(state)  # add the state in the explored list. \n",
        "            frontier_lst = [f[1] for f in frontier]  # Use list comprehension and load all state (without cost) of frontier in frontier_lst\n",
        "            #to check weither a given state is present in the frontier or not \n",
        "            successors = neighbors(state,graph)  # Load the neighbors of state in successors\n",
        "            for s in successors.keys() :  # iterate over successors keys \n",
        "                if s in frontier_lst: # Replace s with state in frontier if it have higher cost\n",
        "                    replace_better(s , successors , cost , frontier,frontier_lst )\n",
        "                elif s not in explored:\n",
        "                    path_full.append(s)\n",
        "                    frontier.append([successors[s]+cost, s]) #Append s and the new cost in the frontier i.e [newcost, s]. Think how to compute the new cost\n",
        "                \n",
        "            \n",
        "     "
      ]
    },
    {
      "cell_type": "code",
      "execution_count": 23,
      "metadata": {
        "colab": {
          "base_uri": "https://localhost:8080/"
        },
        "id": "71m0Qrz0fyws",
        "outputId": "d60bfd08-5d08-43b3-eb8a-9add9cf96bb1"
      },
      "outputs": [
        {
          "name": "stdout",
          "output_type": "stream",
          "text": [
            "frontier after sort: [[0, 'Abbottabad']]\n",
            "current: Abbottabad\n",
            "explored []\n",
            "****************************************\n",
            "frontier after sort: [[24, 'Mansehra'], [41, 'Haripur'], [71, 'Muree']]\n",
            "current: Mansehra\n",
            "explored ['Abbottabad']\n",
            "****************************************\n",
            "frontier after sort: [[38, 'Attar Shisha'], [41, 'Haripur'], [71, 'Muree'], [145, 'Besham']]\n",
            "current: Attar Shisha\n",
            "explored ['Abbottabad', 'Mansehra']\n",
            "****************************************\n",
            "frontier after sort: [[41, 'Haripur'], [71, 'Muree'], [72, 'Muzzafar Abad'], [144, 'Naran'], [145, 'Besham']]\n",
            "current: Haripur\n",
            "explored ['Abbottabad', 'Mansehra', 'Attar Shisha']\n",
            "****************************************\n",
            "frontier after sort: [[71, 'Muree'], [72, 'Muzzafar Abad'], [74, 'Hassan Abdal'], [140, 'Swabi'], [144, 'Naran'], [145, 'Besham']]\n",
            "current: Muree\n",
            "explored ['Abbottabad', 'Mansehra', 'Attar Shisha', 'Haripur']\n",
            "****************************************\n",
            "new state Muzzafar Abad\n",
            "Muzzafar Abad already in frontier with pathcost: 72\n",
            "frontier after sort: [[72, 'Muzzafar Abad'], [74, 'Hassan Abdal'], [120, 'Islamabad'], [140, 'Swabi'], [144, 'Naran'], [145, 'Besham']]\n",
            "current: Muzzafar Abad\n",
            "explored ['Abbottabad', 'Mansehra', 'Attar Shisha', 'Haripur', 'Muree']\n",
            "****************************************\n",
            "frontier after sort: [[74, 'Hassan Abdal'], [120, 'Islamabad'], [140, 'Swabi'], [144, 'Naran'], [145, 'Besham']]\n",
            "current: Hassan Abdal\n",
            "explored ['Abbottabad', 'Mansehra', 'Attar Shisha', 'Haripur', 'Muree', 'Muzzafar Abad']\n",
            "****************************************\n",
            "frontier after sort: [[90, 'Taxila'], [120, 'Islamabad'], [137, 'Jehangira'], [140, 'Swabi'], [144, 'Naran'], [145, 'Besham']]\n",
            "current: Taxila\n",
            "explored ['Abbottabad', 'Mansehra', 'Attar Shisha', 'Haripur', 'Muree', 'Muzzafar Abad', 'Hassan Abdal']\n",
            "****************************************\n",
            "frontier after sort: [[119, 'Rawalpindi'], [120, 'Islamabad'], [137, 'Jehangira'], [140, 'Swabi'], [144, 'Naran'], [145, 'Besham']]\n",
            "current: Rawalpindi\n",
            "explored ['Abbottabad', 'Mansehra', 'Attar Shisha', 'Haripur', 'Muree', 'Muzzafar Abad', 'Hassan Abdal', 'Taxila']\n",
            "****************************************\n",
            "new state Islamabad\n",
            "Islamabad already in frontier with pathcost: 120\n",
            "frontier after sort: [[120, 'Islamabad'], [137, 'Jehangira'], [140, 'Swabi'], [144, 'Naran'], [145, 'Besham']]\n",
            "current: Islamabad\n",
            "explored ['Abbottabad', 'Mansehra', 'Attar Shisha', 'Haripur', 'Muree', 'Muzzafar Abad', 'Hassan Abdal', 'Taxila', 'Rawalpindi']\n",
            "****************************************\n",
            "frontier after sort: [[137, 'Jehangira'], [140, 'Swabi'], [144, 'Naran'], [145, 'Besham']]\n",
            "current: Jehangira\n",
            "explored ['Abbottabad', 'Mansehra', 'Attar Shisha', 'Haripur', 'Muree', 'Muzzafar Abad', 'Hassan Abdal', 'Taxila', 'Rawalpindi', 'Islamabad']\n",
            "****************************************\n",
            "new state Swabi\n",
            "Swabi already in frontier with pathcost: 140\n",
            "frontier after sort: [[140, 'Swabi'], [144, 'Naran'], [145, 'Besham'], [168, 'Nowshera']]\n",
            "current: Swabi\n",
            "explored ['Abbottabad', 'Mansehra', 'Attar Shisha', 'Haripur', 'Muree', 'Muzzafar Abad', 'Hassan Abdal', 'Taxila', 'Rawalpindi', 'Islamabad', 'Jehangira']\n",
            "****************************************\n",
            "frontier after sort: [[144, 'Naran'], [145, 'Besham'], [168, 'Nowshera']]\n",
            "current: Naran\n",
            "explored ['Abbottabad', 'Mansehra', 'Attar Shisha', 'Haripur', 'Muree', 'Muzzafar Abad', 'Hassan Abdal', 'Taxila', 'Rawalpindi', 'Islamabad', 'Jehangira', 'Swabi']\n",
            "****************************************\n",
            "frontier after sort: [[145, 'Besham'], [168, 'Nowshera'], [257, 'Chilas']]\n",
            "current: Besham\n",
            "explored ['Abbottabad', 'Mansehra', 'Attar Shisha', 'Haripur', 'Muree', 'Muzzafar Abad', 'Hassan Abdal', 'Taxila', 'Rawalpindi', 'Islamabad', 'Jehangira', 'Swabi', 'Naran']\n",
            "****************************************\n",
            "new state Chilas\n",
            "Chilas already in frontier with pathcost: 257\n",
            "frontier after sort: [[168, 'Nowshera'], [211, 'Khwazakhela'], [257, 'Chilas']]\n",
            "current: Nowshera\n",
            "explored ['Abbottabad', 'Mansehra', 'Attar Shisha', 'Haripur', 'Muree', 'Muzzafar Abad', 'Hassan Abdal', 'Taxila', 'Rawalpindi', 'Islamabad', 'Jehangira', 'Swabi', 'Naran', 'Besham']\n",
            "****************************************\n",
            "frontier after sort: [[208, 'Peshawar'], [211, 'Khwazakhela'], [257, 'Chilas'], [295, 'Mingora']]\n",
            "current: Peshawar\n",
            "explored ['Abbottabad', 'Mansehra', 'Attar Shisha', 'Haripur', 'Muree', 'Muzzafar Abad', 'Hassan Abdal', 'Taxila', 'Rawalpindi', 'Islamabad', 'Jehangira', 'Swabi', 'Naran', 'Besham', 'Nowshera']\n",
            "****************************************\n",
            "frontier after sort: [[211, 'Khwazakhela'], [257, 'Chilas'], [295, 'Mingora']]\n",
            "current: Khwazakhela\n",
            "explored ['Abbottabad', 'Mansehra', 'Attar Shisha', 'Haripur', 'Muree', 'Muzzafar Abad', 'Hassan Abdal', 'Taxila', 'Rawalpindi', 'Islamabad', 'Jehangira', 'Swabi', 'Naran', 'Besham', 'Nowshera', 'Peshawar']\n",
            "****************************************\n",
            "new state Mingora\n",
            "Mingora already in frontier with pathcost: 295\n",
            "Mingora updated with pathcost:238\n",
            "frontier after sort: [[238, 'Mingora'], [257, 'Chilas'], [280, 'Kalam']]\n",
            "current: Mingora\n",
            "explored ['Abbottabad', 'Mansehra', 'Attar Shisha', 'Haripur', 'Muree', 'Muzzafar Abad', 'Hassan Abdal', 'Taxila', 'Rawalpindi', 'Islamabad', 'Jehangira', 'Swabi', 'Naran', 'Besham', 'Nowshera', 'Peshawar', 'Khwazakhela']\n",
            "****************************************\n",
            "frontier after sort: [[257, 'Chilas'], [280, 'Kalam']]\n",
            "current: Chilas\n",
            "explored ['Abbottabad', 'Mansehra', 'Attar Shisha', 'Haripur', 'Muree', 'Muzzafar Abad', 'Hassan Abdal', 'Taxila', 'Rawalpindi', 'Islamabad', 'Jehangira', 'Swabi', 'Naran', 'Besham', 'Nowshera', 'Peshawar', 'Khwazakhela', 'Mingora']\n",
            "****************************************\n",
            "frontier after sort: [[280, 'Kalam'], [390, 'Gilgit']]\n",
            "current: Kalam\n",
            "explored ['Abbottabad', 'Mansehra', 'Attar Shisha', 'Haripur', 'Muree', 'Muzzafar Abad', 'Hassan Abdal', 'Taxila', 'Rawalpindi', 'Islamabad', 'Jehangira', 'Swabi', 'Naran', 'Besham', 'Nowshera', 'Peshawar', 'Khwazakhela', 'Mingora', 'Chilas']\n",
            "****************************************\n",
            "goal: Kalam reached with pathcost:280\n",
            "The Path is :  ['Abbottabad', 'Mansehra', 'Muree', 'Haripur', 'Attar Shisha', 'Besham', 'Muzzafar Abad', 'Naran', 'Swabi', 'Hassan Abdal', 'Islamabad', 'Jehangira', 'Taxila', 'Rawalpindi', 'Nowshera', 'Chilas', 'Khwazakhela', 'Mingora', 'Peshawar', 'Kalam', 'Gilgit', 'Kalam']\n"
          ]
        }
      ],
      "source": [
        "start = 'Abbottabad'\n",
        "goal =  'Kalam'\n",
        "ucs(start,goal,Pakistan)  "
      ]
    },
    {
      "cell_type": "code",
      "execution_count": null,
      "metadata": {
        "id": "Qe4n9YDyfywt"
      },
      "outputs": [],
      "source": []
    }
  ],
  "metadata": {
    "colab": {
      "collapsed_sections": [],
      "provenance": []
    },
    "kernelspec": {
      "display_name": "Python 3",
      "language": "python",
      "name": "python3"
    },
    "language_info": {
      "codemirror_mode": {
        "name": "ipython",
        "version": 3
      },
      "file_extension": ".py",
      "mimetype": "text/x-python",
      "name": "python",
      "nbconvert_exporter": "python",
      "pygments_lexer": "ipython3",
      "version": "3.11.3"
    }
  },
  "nbformat": 4,
  "nbformat_minor": 0
}
