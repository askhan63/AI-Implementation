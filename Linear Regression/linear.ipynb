{
 "cells": [
  {
   "cell_type": "code",
   "execution_count": null,
   "metadata": {},
   "outputs": [],
   "source": []
  },
  {
   "cell_type": "code",
   "execution_count": 1,
   "metadata": {},
   "outputs": [
    {
     "name": "stdout",
     "output_type": "stream",
     "text": [
      "Learned weights (W): 0.7873910424430548\n",
      "Learned bias (b): 1.584490607752963\n"
     ]
    }
   ],
   "source": [
    "x = [1, 2, 3, 4, 5]\n",
    "y = [3, 4, 2, 5, 6]\n",
    "# Step 1: Initialize weights and bias\n",
    "W = 0.5\n",
    "b = 0\n",
    "\n",
    "# Step 2: Set the learning rate and the number of iterations\n",
    "learning_rate = 0.01\n",
    "num_iterations = 1000\n",
    "m = len(x)  # Number of training examples\n",
    "\n",
    "# Step 3: Training the model using Gradient Descent\n",
    "for iteration in range(num_iterations):\n",
    "    # Initialize gradients for weights and bias\n",
    "    dW = 0\n",
    "    db = 0\n",
    "    \n",
    "    # Compute the gradients for each training example\n",
    "    for i in range(m):\n",
    "        y_pred = W * x[i] + b\n",
    "        dW += (y_pred - y[i]) * x[i]\n",
    "        db += y_pred - y[i]\n",
    "    \n",
    "    # Update weights and bias using the gradients and learning rate\n",
    "    dW /= m\n",
    "    db /= m\n",
    "    W -= learning_rate * dW\n",
    "    b -= learning_rate * db\n",
    "    print(\"w\",W+\" ,b\",b+\" , dw\",dW+\" , db\",db)\n",
    "\n",
    "# Step 4: Display the final learned parameters (weights and bias)\n",
    "print(\"Learned weights (W):\", W)\n",
    "print(\"Learned bias (b):\", b)\n"
   ]
  },
  {
   "cell_type": "code",
   "execution_count": 2,
   "metadata": {},
   "outputs": [
    {
     "name": "stdout",
     "output_type": "stream",
     "text": [
      "Predicted y for x_new: 6.308836862411292\n"
     ]
    }
   ],
   "source": [
    "x_new = 6\n",
    "y_pred = W * x_new + b\n",
    "print(\"Predicted y for x_new:\", y_pred)\n"
   ]
  }
 ],
 "metadata": {
  "kernelspec": {
   "display_name": "Python 3",
   "language": "python",
   "name": "python3"
  },
  "language_info": {
   "codemirror_mode": {
    "name": "ipython",
    "version": 3
   },
   "file_extension": ".py",
   "mimetype": "text/x-python",
   "name": "python",
   "nbconvert_exporter": "python",
   "pygments_lexer": "ipython3",
   "version": "3.11.3"
  },
  "orig_nbformat": 4
 },
 "nbformat": 4,
 "nbformat_minor": 2
}
