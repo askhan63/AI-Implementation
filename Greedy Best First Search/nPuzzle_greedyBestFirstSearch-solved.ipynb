{
  "cells": [
    {
      "attachments": {},
      "cell_type": "markdown",
      "metadata": {
        "id": "jZs2JLi_Qocz"
      },
      "source": [
        "# Artificail Intelligence \n",
        "# Lab Assignment 1\n",
        "\n",
        "# Due Date:  01 May, 2023\n",
        "\n"
      ]
    },
    {
      "attachments": {},
      "cell_type": "markdown",
      "metadata": {
        "id": "zNRiL7iAQoc2"
      },
      "source": [
        "# n-Puzzle Problem with Greedy Best First Search\n",
        "## 1- introduction\n",
        "An instance of the n-puzzle game consists of a board holding $n^2-1$ distinct movable tiles, plus an empty space. The tiles are numbers from the set $1,..,n^2-1$. For any such board, the empty space may be legally swapped with any tile horizontally or vertically adjacent to it. In this assignment, the blank space is going to be represented with the number $0$. Given an initial state of the board, the combinatorial search problem is to find a sequence of moves that transitions this state to the goal state; that is, the configuration with all tiles arranged in ascending order $0,1,… ,n^2−1$. The search space is the set of all possible states reachable from the initial state. The blank space may be swapped with a component in one of the four directions $\\{‘Up’, ‘Down’, ‘Left’, ‘Right’\\}$, one move at a time. The cost of moving from one configuration of the board to another is the same and equal to one. Thus, the total cost of path is equal to the number of moves made from the initial state to the goal state.\n",
        "\n",
        "## II. Algorithm Review\n",
        "\n",
        "The searches begin by visiting the root node of the search tree, given by the initial state. Among other book-keeping details, three major things happen in sequence in order to visit a node:\n",
        "- 1. First, we remove a node from the frontier set.\n",
        "- 2. Second, we check the state against the goal state to determine if a solution has been found.\n",
        "- 3. Finally, if the result of the check is negative, we then expand the node. To expand a given node, we generate successor nodes adjacent to the current node, and add them to the frontier set. Note that if these successor nodes are already in the frontier, or have already been visited, then they should not be added to the frontier again.\n",
        "\n",
        "This describes the life-cycle of a visit, and is the basic order of operations for search agents in this assignment—(1) remove, (2) check, and (3) expand. In this assignment, you need to implement the following algorithms:\n",
        "- Greedy Best First Search\n",
        "\n",
        "## Problem repesentation\n",
        "Lets consider 8-puzzle problem for illustration. In 8-puzzle problem we have a $3\\times 3$ grid as given below: \n",
        "\\begin{array}{|r|r|} \\hline\n",
        "1&2 &3 \\\\ \\hline\n",
        "4&0 &5 \\\\ \\hline\n",
        "6&7 &8 \\\\ \\hline\n",
        "\\end{array}\n",
        "\n",
        "In your implementation you need to repesent a given state as a list of elements. The above grid may be represented as:\n",
        "                                                                                  $[1,2,3,4,0,5,6,7,8]$\n",
        "\n",
        "Since the empty tile, __0__ occurs at the midlle of the grid then the following four diffferent operations are possible:\n",
        "- __move right:__ swap 5 and 0. \n",
        "- __move left:__ swap 4 and 0.\n",
        "- __move down:__ swap 7 and 0.\n",
        "- __move up:__ swap 2 and 0.\n",
        "\n",
        "Note that, __the empty tile,0__, may occur at any of the nine sqaures of the gird. The following function returns the set of actions (branching factor) for a given state \"s\""
      ]
    },
    {
      "cell_type": "code",
      "execution_count": null,
      "metadata": {
        "id": "RzFboSHAQoc6"
      },
      "outputs": [],
      "source": []
    },
    {
      "cell_type": "code",
      "execution_count": 12,
      "metadata": {
        "id": "pqpoLQRVQoc7",
        "trusted": true
      },
      "outputs": [],
      "source": [
        "def actions(s): #This function should return the set of actions (branching factor) of a given state \"s\"\n",
        "    actionDic={}\n",
        "    if s[0]==0:\n",
        "        # move right: \n",
        "        actionDic[\"right\"]=[0,1]\n",
        "          # move down: \n",
        "        actionDic[\"down\"]=[0,3] \n",
        "    if s[1]==0:\n",
        "        # move left: \n",
        "        actionDic[\"left\"]=[1,0]\n",
        "         # move right: \n",
        "        actionDic[\"right\"]=[1,2]\n",
        "          # move down: \n",
        "        actionDic[\"down\"]=[1,4]\n",
        "        \n",
        "    if s[2]==0:\n",
        "        # move left: \n",
        "        actionDic[\"left\"]=[2,1]\n",
        "          # move down: \n",
        "        actionDic[\"down\"]=[2,5]\n",
        "    if s[3]==0:\n",
        "         # move up: \n",
        "        actionDic[\"up\"]=[3,0]\n",
        "         # move right: \n",
        "        actionDic[\"right\"]=[3,4]\n",
        "          # move down: \n",
        "        actionDic[\"down\"]=[3,6]\n",
        "    \n",
        "    if s[4]==0: #If the empty cell occurs at the middle of the grid as illustrated above.\n",
        "        # move right: swap 5 and 0. i.e. swap the elements of at location 4 and 5\n",
        "        actionDic[\"right\"]=[4,5]\n",
        "        # move left: swap 3 and 0. i.e. swap the elements of at location 4 and 2\n",
        "        actionDic[\"left\"]=[4,3]\n",
        "        # move down: swap 4 and 7. i.e. swap the elements of at location 4 and 7\n",
        "        actionDic[\"down\"]=[4,7]\n",
        "        # move up: swap 2 and 0. i.e. swap the elements of at location 4 and 1\n",
        "        actionDic[\"up\"]=[4,1]\n",
        "    if s[5]==0:\n",
        "            # move up: \n",
        "        actionDic[\"up\"]=[5,2]\n",
        "           # move left: \n",
        "        actionDic[\"left\"]=[5,4]\n",
        "          # move down: \n",
        "        actionDic[\"down\"]=[5,8]\n",
        "    if s[6]==0:\n",
        "            # move up: \n",
        "        actionDic[\"up\"]=[6,3]\n",
        "         # move right: \n",
        "        actionDic[\"right\"]=[6,7]\n",
        "       \n",
        "    if s[7]==0:\n",
        "          # move right: \n",
        "        actionDic[\"right\"]=[7,8]\n",
        "        # move left: \n",
        "        actionDic[\"left\"]=[7,6]\n",
        "        # move up: \n",
        "        actionDic[\"up\"]=[7,4]\n",
        "    if s[8]==0:\n",
        "      # move left: \n",
        "        actionDic[\"left\"]=[8,7]\n",
        "        # move up: \n",
        "        actionDic[\"up\"]=[8,4]\n",
        "        \n",
        "    return actionDic"
      ]
    },
    {
      "cell_type": "code",
      "execution_count": 13,
      "metadata": {
        "id": "PB1mglfcQoc9",
        "outputId": "eb7e1014-4eab-4df8-9d62-d8f5ca183255",
        "trusted": true
      },
      "outputs": [
        {
          "name": "stdout",
          "output_type": "stream",
          "text": [
            "{'right': [4, 5], 'left': [4, 3], 'down': [4, 7], 'up': [4, 1]}\n"
          ]
        }
      ],
      "source": [
        "#Test the action function\n",
        "s=[1,2,3,4,0,5,6,7,8]\n",
        "print(actions(s))\n"
      ]
    },
    {
      "attachments": {},
      "cell_type": "markdown",
      "metadata": {
        "id": "AI9Ua8qHQoc_"
      },
      "source": [
        "The __results function__ should generate the neighbor (child) of a given state by swapping the elements (specified by the __action__ list) of the __state__ list"
      ]
    },
    {
      "cell_type": "code",
      "execution_count": 14,
      "metadata": {
        "id": "8FpBaV4nQodA",
        "trusted": true
      },
      "outputs": [],
      "source": [
        "\n",
        "def results(state,action): \n",
        "    # \"state\" is a list which represents the given state.\n",
        "    # \"action\" is a list which contains the indexes of the locations to be swapped.\n",
        "    new_state = state.copy()\n",
        "    new_state[action[0]], new_state[action[1]] = new_state[action[1]], new_state[action[0]]\n",
        "    return new_state\n",
        "    "
      ]
    },
    {
      "cell_type": "code",
      "execution_count": 15,
      "metadata": {
        "id": "kBwv9viuQodA",
        "outputId": "f9ac776e-c045-4da8-e1c3-5947ab987310",
        "trusted": true
      },
      "outputs": [
        {
          "name": "stdout",
          "output_type": "stream",
          "text": [
            "\n",
            "The set of possible actions for state [1, 2, 3, 4, 0, 5, 6, 7, 8] :\n",
            "{'right': [4, 5], 'left': [4, 3], 'down': [4, 7], 'up': [4, 1]}\n",
            "\n",
            "The neighbors of the given state, [1, 2, 3, 4, 0, 5, 6, 7, 8]  are:\n",
            "[[1, 2, 3, 4, 5, 0, 6, 7, 8], [1, 2, 3, 0, 4, 5, 6, 7, 8], [1, 2, 3, 4, 7, 5, 6, 0, 8], [1, 0, 3, 4, 2, 5, 6, 7, 8]]\n"
          ]
        }
      ],
      "source": [
        "#Testing the results function\n",
        "#for the given state \"s\" the function should retun the following results\"\n",
        "#The set of possible actions for state [1, 2, 3, 4, 0, 5, 6, 7, 8] :\n",
        "#{'right': [4, 5], 'left': [4, 3], 'down': [4, 7], 'up': [4, 1]}\n",
        "\n",
        "#The neighbors of the given state, [1, 2, 3, 4, 0, 5, 6, 7, 8]  are:\n",
        "#[[1, 2, 3, 4, 5, 0, 6, 7, 8], [1, 2, 3, 0, 4, 5, 6, 7, 8], [1, 2, 3, 4, 7, 5, 6, 0, 8], [1, 0, 3, 4, 2, 5, 6, 7, 8]]\n",
        "\n",
        "s=[1,2,3,4,0,5,6,7,8]\n",
        "actionlist=actions(s)\n",
        "print(\"\")\n",
        "print(\"The set of possible actions for state\", s,\":\")\n",
        "print( actionlist)\n",
        "print(\"\")\n",
        "successors=[results(s,actionlist[x]) for x in actionlist]\n",
        "print(\"The neighbors of the given state,\",s,\" are:\")\n",
        "print(successors)\n",
        "\n"
      ]
    },
    {
      "cell_type": "code",
      "execution_count": 16,
      "metadata": {
        "id": "ID3Vv_NcQodC",
        "trusted": true
      },
      "outputs": [],
      "source": [
        "def neighbors(state):   \n",
        "    successors=[]\n",
        "    actionlist = actions(state) # The list of all possible actions that may be taken in state \"s\"\n",
        "    for x in actionlist:\n",
        "        neighbor=results(state,actionlist[x])        \n",
        "        successors.append(neighbor)\n",
        "    return successors"
      ]
    },
    {
      "cell_type": "code",
      "execution_count": 17,
      "metadata": {
        "id": "MNKZ-uZtQodD",
        "outputId": "724f21fc-4541-483a-f0ee-ed2488d2cbc7",
        "scrolled": true,
        "trusted": true
      },
      "outputs": [
        {
          "data": {
            "text/plain": [
              "[[1, 2, 3, 4, 5, 0, 6, 7, 8],\n",
              " [1, 2, 3, 0, 4, 5, 6, 7, 8],\n",
              " [1, 2, 3, 4, 7, 5, 6, 0, 8],\n",
              " [1, 0, 3, 4, 2, 5, 6, 7, 8]]"
            ]
          },
          "execution_count": 17,
          "metadata": {},
          "output_type": "execute_result"
        }
      ],
      "source": [
        "#Testing\n",
        "# For the gien list the output should be:\n",
        "#[[1, 2, 3, 4, 5, 0, 6, 7, 8],\n",
        " #[1, 2, 3, 0, 4, 5, 6, 7, 8],\n",
        " #[1, 2, 3, 4, 7, 5, 6, 0, 8],\n",
        " #[1, 0, 3, 4, 2, 5, 6, 7, 8]]\n",
        "    \n",
        "s=[1,2,3,4,0,5,6,7,8]\n",
        "neighbors(s)\n"
      ]
    },
    {
      "cell_type": "code",
      "execution_count": 18,
      "metadata": {
        "id": "2Bx5MQHUQodF",
        "trusted": true
      },
      "outputs": [],
      "source": [
        "def goal_test(goal, state):\n",
        "   # ''' check if state equals goal state'''   \n",
        "    if state == goal:\n",
        "        return True\n",
        "    else:\n",
        "        return False"
      ]
    },
    {
      "cell_type": "code",
      "execution_count": 19,
      "metadata": {
        "id": "5RL75cciQodG",
        "outputId": "5dac0356-6702-46cd-8de5-91daf12f4b78",
        "trusted": true
      },
      "outputs": [
        {
          "name": "stdout",
          "output_type": "stream",
          "text": [
            "False\n"
          ]
        }
      ],
      "source": [
        "#Test your function!\n",
        "#for the given input the output must be \"False\"\n",
        "goal=[0,1,2,3,4,5,6,7,8]\n",
        "state=[1,2,3,4,0,5,6,7,8]\n",
        "print(goal_test(goal, state))"
      ]
    },
    {
      "attachments": {},
      "cell_type": "markdown",
      "metadata": {
        "id": "4Ny518jDQodG"
      },
      "source": [
        "## Best First Search\n",
        "\n",
        "In BFS and DFS, when we are at a node, we can consider any of the adjacent as next node. So both BFS and DFS blindly explore paths without considering any cost function (heuristic). The idea of Best First Search is to use an evaluation function (heuristic) to decide which adjacent is most promising and then explore. Best First Search falls under the category of Heuristic Search or Informed Search.\n",
        "\n",
        "We use a priority queue to store nodes on the basis of heuristic value. Here, a node will be represented as a list of the form $[heuristic-value-of-the-node, [node]] $. Let us consider a heuristic function  __h1__, which is the number of missed placed tiles.  Then the following state:\n",
        "\\begin{array}{|r|r|} \\hline\n",
        "1&2 &3 \\\\ \\hline\n",
        "4&0 &5 \\\\ \\hline\n",
        "6&7 &8 \\\\ \\hline\n",
        "\\end{array}\n",
        "can be represented as $[5, [1, 2, 3, 4, 0, 5, 6, 7, 8]]$. Where the first part of the list (i.e. 5) represents the heuristic-value-of-the-node (i.e. the number of misplaced tiles) while the second part of the list represents the given node.\n",
        "\n",
        "In the following function you need to implement the given heuristic function __h1__ :\n",
        "\n",
        "\n"
      ]
    },
    {
      "cell_type": "code",
      "execution_count": 24,
      "metadata": {
        "id": "vRl5C81JQodG",
        "trusted": true
      },
      "outputs": [],
      "source": [
        "def h1(state, goal):\n",
        "    heuristic = 0\n",
        "    for i in range(len(state)):\n",
        "        if list(state)[i] != list(goal)[i]:\n",
        "            heuristic += 1\n",
        "    return heuristic\n",
        "\n",
        "\n",
        "# we can use manhattan for our heuristic function \n",
        "#     distance = 0\n",
        "#     for i in range(9):\n",
        "#         if state[i] != 0:\n",
        "#             x1, y1 = i % 3, i // 3\n",
        "#             x2, y2 = goal.index(state[i]) % 3, goal.index(state[i]) // 3\n",
        "#             distance += abs(x1 - x2) + abs(y1 - y2)\n",
        "#     return distance"
      ]
    },
    {
      "attachments": {},
      "cell_type": "markdown",
      "metadata": {
        "id": "lXX3K56kQodH"
      },
      "source": [
        "## Testing the heuristic function\n",
        "\n",
        "Your implemnetd heuristic function should generate the following output for the following states."
      ]
    },
    {
      "cell_type": "code",
      "execution_count": 25,
      "metadata": {
        "id": "ThlV72FBQodH",
        "outputId": "70903f3c-241d-4d22-cf95-8737d9da039c",
        "trusted": true
      },
      "outputs": [
        {
          "name": "stdout",
          "output_type": "stream",
          "text": [
            "List before sorting: \n",
            "[[6, [1, 2, 3, 4, 8, 5, 6, 7, 0]], [5, [1, 2, 3, 4, 0, 5, 6, 7, 8]]]\n",
            "List after sorting: \n",
            "[[5, [1, 2, 3, 4, 0, 5, 6, 7, 8]], [6, [1, 2, 3, 4, 8, 5, 6, 7, 0]]]\n"
          ]
        }
      ],
      "source": [
        "\n",
        "goal=[0,1,2,3,4,5,6,7,8] # The goal node\n",
        "state1=[1,2,3,4,0,5,6,7,8] \n",
        "state2=[1,2,3,4,8,5,6,7,0]\n",
        "\n",
        "\n",
        "node1=[h1(state1,goal),state1]\n",
        "node2=[h1(state2,goal),state2]\n",
        "l=[node2,node1] # a list which contain both of the nodes. Hint!: maintain your frontier in this manner\n",
        "print(\"List before sorting: \")\n",
        "print(l)\n",
        "l.sort()\n",
        "print(\"List after sorting: \")\n",
        "print(l)\n",
        "\n",
        "#Output:\n",
        "\n",
        "#List before sorting: \n",
        "#[[6, [1, 2, 3, 4, 8, 5, 6, 7, 0]], [5, [1, 2, 3, 4, 0, 5, 6, 7, 8]]]\n",
        "#List after sorting: \n",
        "#[[5, [1, 2, 3, 4, 0, 5, 6, 7, 8]], [6, [1, 2, 3, 4, 8, 5, 6, 7, 0]]]\n"
      ]
    },
    {
      "cell_type": "code",
      "execution_count": null,
      "metadata": {
        "id": "NhMBPN2KQodI"
      },
      "outputs": [],
      "source": []
    },
    {
      "attachments": {},
      "cell_type": "markdown",
      "metadata": {
        "id": "qCX9u6UqQodJ"
      },
      "source": [
        "The pydot is python library which is used to draw graphs. The function __drawtree__ will visualize your search tree"
      ]
    },
    {
      "cell_type": "code",
      "execution_count": null,
      "metadata": {
        "id": "kLu-fC1eQodJ"
      },
      "outputs": [],
      "source": []
    },
    {
      "cell_type": "code",
      "execution_count": 26,
      "metadata": {
        "id": "L0J9H1H9QodK",
        "trusted": true
      },
      "outputs": [],
      "source": [
        "def bestFirstSearch(start, goal):\n",
        "    \n",
        "    explored = [] # initialize the explored list\n",
        "    node=[h1(start,goal),start] #create a node of the form: [heuristic_value, [state]]. \n",
        "    frontier = [node] # initializ the frontier as a list with the start state \n",
        "    #print('searching from: {} to {}'.format(start, goal))\n",
        "    print(\"The search is in progress.....\")\n",
        "    while frontier: #repeat while frontier is not empty\n",
        "        # remove one state form the frontier and store in explore list \n",
        "        state = frontier.pop(0) \n",
        "        print(\"Exploring the node: \",state[1] )\n",
        "        explored.append(state)\n",
        "         \n",
        "        # test wheter the current state is goal?\n",
        "        if goal_test(state[1],goal): \n",
        "            print(\"The goal : \",state[1] )\n",
        "            print(\"The number of nodes expanded= \",len(explored))\n",
        "            return state\n",
        "         \n",
        "        # check whehter the current state has already processed or present in frontier\n",
        "        for neighbor in neighbors(state[1]):\n",
        "            node=[h1(neighbor,goal),neighbor]\n",
        "            if node not in explored and node not in frontier:\n",
        "                frontier.append(node)\n",
        "                #node_parent[str(node)]=str(state) # \n",
        "                #drawtree(state,node)\n",
        "        frontier.sort()\n",
        "    \n",
        "             \n",
        "    print('failure') "
      ]
    },
    {
      "cell_type": "code",
      "execution_count": 27,
      "metadata": {
        "id": "lrNJYIm0QodK",
        "outputId": "90f07a7e-4a92-44cd-86fa-3d265d64bbe4",
        "trusted": true
      },
      "outputs": [
        {
          "name": "stdout",
          "output_type": "stream",
          "text": [
            "The search is in progress.....\n",
            "Exploring the node:  [1, 8, 2, 3, 4, 5, 6, 7, 0]\n",
            "Exploring the node:  [1, 8, 2, 3, 0, 5, 6, 7, 4]\n",
            "Exploring the node:  [1, 0, 2, 3, 8, 5, 6, 7, 4]\n",
            "Exploring the node:  [0, 1, 2, 3, 8, 5, 6, 7, 4]\n",
            "Exploring the node:  [1, 8, 2, 3, 4, 5, 6, 0, 7]\n",
            "Exploring the node:  [3, 1, 2, 0, 8, 5, 6, 7, 4]\n",
            "Exploring the node:  [3, 1, 2, 8, 0, 5, 6, 7, 4]\n",
            "Exploring the node:  [1, 2, 0, 3, 8, 5, 6, 7, 4]\n",
            "Exploring the node:  [1, 8, 2, 0, 3, 5, 6, 7, 4]\n",
            "Exploring the node:  [0, 8, 2, 1, 3, 5, 6, 7, 4]\n",
            "Exploring the node:  [1, 8, 2, 3, 0, 5, 6, 4, 7]\n",
            "Exploring the node:  [1, 0, 2, 3, 8, 5, 6, 4, 7]\n",
            "Exploring the node:  [0, 1, 2, 3, 8, 5, 6, 4, 7]\n",
            "Exploring the node:  [1, 8, 2, 3, 4, 5, 0, 6, 7]\n",
            "Exploring the node:  [1, 8, 2, 3, 5, 0, 6, 7, 4]\n",
            "Exploring the node:  [1, 8, 2, 3, 5, 4, 6, 7, 0]\n",
            "Exploring the node:  [1, 8, 2, 3, 0, 4, 6, 7, 5]\n",
            "Exploring the node:  [1, 8, 2, 3, 4, 0, 6, 7, 5]\n",
            "Exploring the node:  [1, 0, 2, 3, 8, 4, 6, 7, 5]\n",
            "Exploring the node:  [0, 1, 2, 3, 8, 4, 6, 7, 5]\n",
            "Exploring the node:  [1, 8, 0, 3, 4, 2, 6, 7, 5]\n",
            "Exploring the node:  [1, 0, 8, 3, 4, 2, 6, 7, 5]\n",
            "Exploring the node:  [0, 1, 8, 3, 4, 2, 6, 7, 5]\n",
            "Exploring the node:  [1, 8, 2, 3, 7, 5, 6, 0, 4]\n",
            "Exploring the node:  [1, 8, 2, 3, 7, 5, 6, 4, 0]\n",
            "Exploring the node:  [3, 0, 2, 8, 1, 5, 6, 7, 4]\n",
            "Exploring the node:  [0, 3, 2, 8, 1, 5, 6, 7, 4]\n",
            "Exploring the node:  [3, 1, 2, 0, 8, 4, 6, 7, 5]\n",
            "Exploring the node:  [3, 1, 2, 0, 8, 5, 6, 4, 7]\n",
            "Exploring the node:  [3, 1, 2, 6, 8, 5, 0, 7, 4]\n",
            "Exploring the node:  [3, 1, 2, 8, 0, 4, 6, 7, 5]\n",
            "Exploring the node:  [3, 1, 2, 8, 4, 0, 6, 7, 5]\n",
            "Exploring the node:  [3, 1, 2, 8, 4, 5, 6, 7, 0]\n",
            "Exploring the node:  [3, 1, 2, 8, 4, 5, 6, 0, 7]\n",
            "Exploring the node:  [3, 1, 0, 8, 4, 2, 6, 7, 5]\n",
            "Exploring the node:  [3, 1, 2, 8, 0, 5, 6, 4, 7]\n",
            "Exploring the node:  [3, 1, 2, 8, 4, 5, 0, 6, 7]\n",
            "Exploring the node:  [3, 1, 2, 0, 4, 5, 8, 6, 7]\n",
            "Exploring the node:  [0, 1, 2, 3, 4, 5, 8, 6, 7]\n",
            "Exploring the node:  [1, 0, 2, 3, 4, 5, 8, 6, 7]\n",
            "Exploring the node:  [3, 1, 2, 8, 5, 0, 6, 7, 4]\n",
            "Exploring the node:  [3, 1, 2, 8, 5, 4, 6, 7, 0]\n",
            "Exploring the node:  [3, 1, 2, 8, 7, 5, 6, 0, 4]\n",
            "Exploring the node:  [3, 1, 2, 8, 7, 5, 6, 4, 0]\n",
            "Exploring the node:  [3, 1, 8, 0, 4, 2, 6, 7, 5]\n",
            "Exploring the node:  [8, 0, 2, 1, 3, 5, 6, 7, 4]\n",
            "Exploring the node:  [8, 3, 2, 0, 1, 5, 6, 7, 4]\n",
            "Exploring the node:  [8, 3, 2, 1, 0, 5, 6, 7, 4]\n",
            "Exploring the node:  [1, 2, 0, 3, 4, 5, 8, 6, 7]\n",
            "Exploring the node:  [1, 2, 0, 3, 8, 4, 6, 7, 5]\n",
            "Exploring the node:  [1, 2, 0, 3, 8, 5, 6, 4, 7]\n",
            "Exploring the node:  [1, 2, 4, 3, 8, 0, 6, 7, 5]\n",
            "Exploring the node:  [1, 2, 4, 3, 8, 5, 6, 7, 0]\n",
            "Exploring the node:  [1, 2, 4, 3, 0, 5, 6, 7, 8]\n",
            "Exploring the node:  [1, 0, 4, 3, 2, 5, 6, 7, 8]\n",
            "Exploring the node:  [0, 1, 4, 3, 2, 5, 6, 7, 8]\n",
            "Exploring the node:  [1, 4, 0, 3, 2, 5, 6, 7, 8]\n",
            "Exploring the node:  [3, 1, 4, 0, 2, 5, 6, 7, 8]\n",
            "Exploring the node:  [3, 1, 4, 2, 0, 5, 6, 7, 8]\n",
            "Exploring the node:  [1, 2, 4, 0, 3, 5, 6, 7, 8]\n",
            "Exploring the node:  [0, 2, 4, 1, 3, 5, 6, 7, 8]\n",
            "Exploring the node:  [1, 2, 4, 3, 5, 0, 6, 7, 8]\n",
            "Exploring the node:  [1, 2, 0, 3, 5, 4, 6, 7, 8]\n",
            "Exploring the node:  [1, 0, 2, 3, 5, 4, 6, 7, 8]\n",
            "Exploring the node:  [0, 1, 2, 3, 5, 4, 6, 7, 8]\n",
            "Exploring the node:  [1, 5, 2, 3, 0, 4, 6, 7, 8]\n",
            "Exploring the node:  [1, 5, 2, 3, 4, 0, 6, 7, 8]\n",
            "Exploring the node:  [1, 5, 0, 3, 4, 2, 6, 7, 8]\n",
            "Exploring the node:  [1, 0, 5, 3, 4, 2, 6, 7, 8]\n",
            "Exploring the node:  [0, 1, 5, 3, 4, 2, 6, 7, 8]\n",
            "Exploring the node:  [1, 5, 2, 3, 4, 8, 6, 7, 0]\n",
            "Exploring the node:  [3, 1, 2, 0, 5, 4, 6, 7, 8]\n",
            "Exploring the node:  [3, 1, 2, 5, 0, 4, 6, 7, 8]\n",
            "Exploring the node:  [3, 1, 2, 5, 4, 0, 6, 7, 8]\n",
            "Exploring the node:  [3, 1, 0, 5, 4, 2, 6, 7, 8]\n",
            "Exploring the node:  [3, 1, 2, 5, 4, 8, 6, 7, 0]\n",
            "Exploring the node:  [3, 1, 5, 0, 4, 2, 6, 7, 8]\n",
            "Exploring the node:  [1, 2, 4, 3, 7, 5, 6, 0, 8]\n",
            "Exploring the node:  [1, 4, 5, 3, 0, 2, 6, 7, 8]\n",
            "Exploring the node:  [1, 4, 5, 3, 2, 0, 6, 7, 8]\n",
            "Exploring the node:  [1, 5, 2, 0, 3, 4, 6, 7, 8]\n",
            "Exploring the node:  [0, 5, 2, 1, 3, 4, 6, 7, 8]\n",
            "Exploring the node:  [1, 5, 2, 3, 0, 8, 6, 7, 4]\n",
            "Exploring the node:  [1, 0, 2, 3, 5, 8, 6, 7, 4]\n",
            "Exploring the node:  [0, 1, 2, 3, 5, 8, 6, 7, 4]\n",
            "Exploring the node:  [1, 5, 2, 3, 4, 8, 6, 0, 7]\n",
            "Exploring the node:  [1, 5, 2, 3, 7, 4, 6, 0, 8]\n",
            "Exploring the node:  [1, 5, 2, 3, 8, 0, 6, 7, 4]\n",
            "Exploring the node:  [1, 5, 2, 3, 8, 4, 6, 7, 0]\n",
            "Exploring the node:  [2, 0, 4, 1, 3, 5, 6, 7, 8]\n",
            "Exploring the node:  [2, 3, 4, 1, 0, 5, 6, 7, 8]\n",
            "Exploring the node:  [2, 3, 4, 0, 1, 5, 6, 7, 8]\n",
            "Exploring the node:  [0, 3, 4, 2, 1, 5, 6, 7, 8]\n",
            "Exploring the node:  [2, 4, 0, 1, 3, 5, 6, 7, 8]\n",
            "Exploring the node:  [3, 0, 1, 5, 4, 2, 6, 7, 8]\n",
            "Exploring the node:  [0, 3, 1, 5, 4, 2, 6, 7, 8]\n",
            "Exploring the node:  [3, 0, 2, 5, 1, 4, 6, 7, 8]\n",
            "Exploring the node:  [0, 3, 2, 5, 1, 4, 6, 7, 8]\n",
            "Exploring the node:  [3, 0, 4, 2, 1, 5, 6, 7, 8]\n",
            "Exploring the node:  [3, 1, 2, 0, 5, 8, 6, 7, 4]\n",
            "Exploring the node:  [3, 1, 2, 5, 0, 8, 6, 7, 4]\n",
            "Exploring the node:  [3, 1, 2, 5, 4, 8, 6, 0, 7]\n",
            "Exploring the node:  [3, 1, 2, 5, 7, 4, 6, 0, 8]\n",
            "Exploring the node:  [3, 1, 2, 5, 8, 0, 6, 7, 4]\n",
            "Exploring the node:  [3, 1, 2, 5, 8, 4, 6, 7, 0]\n",
            "Exploring the node:  [3, 1, 2, 6, 5, 4, 0, 7, 8]\n",
            "Exploring the node:  [3, 1, 4, 2, 5, 0, 6, 7, 8]\n",
            "Exploring the node:  [3, 1, 0, 2, 5, 4, 6, 7, 8]\n",
            "Exploring the node:  [3, 1, 4, 2, 7, 5, 6, 0, 8]\n",
            "Exploring the node:  [3, 1, 4, 6, 2, 5, 0, 7, 8]\n",
            "Exploring the node:  [3, 1, 5, 4, 0, 2, 6, 7, 8]\n",
            "Exploring the node:  [3, 1, 5, 4, 2, 0, 6, 7, 8]\n",
            "Exploring the node:  [3, 1, 0, 4, 2, 5, 6, 7, 8]\n",
            "Exploring the node:  [3, 0, 1, 4, 2, 5, 6, 7, 8]\n",
            "Exploring the node:  [0, 3, 1, 4, 2, 5, 6, 7, 8]\n",
            "Exploring the node:  [3, 1, 5, 6, 4, 2, 0, 7, 8]\n",
            "Exploring the node:  [3, 2, 1, 4, 0, 5, 6, 7, 8]\n",
            "Exploring the node:  [3, 2, 1, 0, 4, 5, 6, 7, 8]\n",
            "Exploring the node:  [0, 2, 1, 3, 4, 5, 6, 7, 8]\n",
            "Exploring the node:  [2, 0, 1, 3, 4, 5, 6, 7, 8]\n",
            "Exploring the node:  [2, 1, 0, 3, 4, 5, 6, 7, 8]\n",
            "Exploring the node:  [2, 1, 5, 3, 4, 0, 6, 7, 8]\n",
            "Exploring the node:  [2, 1, 5, 3, 0, 4, 6, 7, 8]\n",
            "Exploring the node:  [2, 1, 5, 3, 4, 8, 6, 7, 0]\n",
            "Exploring the node:  [2, 4, 1, 3, 0, 5, 6, 7, 8]\n",
            "Exploring the node:  [2, 0, 5, 3, 1, 4, 6, 7, 8]\n",
            "Exploring the node:  [0, 2, 5, 3, 1, 4, 6, 7, 8]\n",
            "Exploring the node:  [2, 1, 5, 0, 3, 4, 6, 7, 8]\n",
            "Exploring the node:  [0, 1, 5, 2, 3, 4, 6, 7, 8]\n",
            "Exploring the node:  [2, 1, 5, 3, 0, 8, 6, 7, 4]\n",
            "Exploring the node:  [2, 1, 5, 3, 4, 8, 6, 0, 7]\n",
            "Exploring the node:  [2, 1, 5, 3, 7, 4, 6, 0, 8]\n",
            "Exploring the node:  [2, 1, 5, 3, 8, 0, 6, 7, 4]\n",
            "Exploring the node:  [2, 1, 0, 3, 8, 5, 6, 7, 4]\n",
            "Exploring the node:  [2, 0, 1, 3, 8, 5, 6, 7, 4]\n",
            "Exploring the node:  [0, 2, 1, 3, 8, 5, 6, 7, 4]\n",
            "Exploring the node:  [2, 1, 5, 3, 8, 4, 6, 7, 0]\n",
            "Exploring the node:  [2, 4, 1, 0, 3, 5, 6, 7, 8]\n",
            "Exploring the node:  [0, 4, 1, 2, 3, 5, 6, 7, 8]\n",
            "Exploring the node:  [2, 4, 1, 3, 5, 0, 6, 7, 8]\n",
            "Exploring the node:  [2, 4, 0, 3, 5, 1, 6, 7, 8]\n",
            "Exploring the node:  [2, 0, 4, 3, 5, 1, 6, 7, 8]\n",
            "Exploring the node:  [0, 2, 4, 3, 5, 1, 6, 7, 8]\n",
            "Exploring the node:  [2, 4, 1, 3, 7, 5, 6, 0, 8]\n",
            "Exploring the node:  [2, 5, 0, 3, 1, 4, 6, 7, 8]\n",
            "Exploring the node:  [2, 5, 4, 3, 0, 1, 6, 7, 8]\n",
            "Exploring the node:  [2, 5, 4, 3, 1, 0, 6, 7, 8]\n",
            "Exploring the node:  [2, 8, 1, 3, 0, 5, 6, 7, 4]\n",
            "Exploring the node:  [3, 2, 1, 6, 4, 5, 0, 7, 8]\n",
            "Exploring the node:  [3, 4, 0, 2, 1, 5, 6, 7, 8]\n",
            "Exploring the node:  [4, 0, 1, 2, 3, 5, 6, 7, 8]\n",
            "Exploring the node:  [4, 1, 0, 2, 3, 5, 6, 7, 8]\n",
            "Exploring the node:  [4, 1, 5, 2, 3, 0, 6, 7, 8]\n",
            "Exploring the node:  [4, 1, 5, 2, 0, 3, 6, 7, 8]\n",
            "Exploring the node:  [4, 1, 5, 0, 2, 3, 6, 7, 8]\n",
            "Exploring the node:  [0, 1, 5, 4, 2, 3, 6, 7, 8]\n",
            "Exploring the node:  [4, 3, 1, 0, 2, 5, 6, 7, 8]\n",
            "Exploring the node:  [4, 3, 1, 2, 0, 5, 6, 7, 8]\n",
            "Exploring the node:  [5, 0, 2, 1, 3, 4, 6, 7, 8]\n",
            "Exploring the node:  [5, 3, 1, 0, 4, 2, 6, 7, 8]\n",
            "Exploring the node:  [5, 3, 2, 0, 1, 4, 6, 7, 8]\n",
            "Exploring the node:  [5, 3, 2, 1, 0, 4, 6, 7, 8]\n",
            "Exploring the node:  [5, 3, 2, 1, 4, 0, 6, 7, 8]\n",
            "Exploring the node:  [5, 3, 0, 1, 4, 2, 6, 7, 8]\n",
            "Exploring the node:  [5, 0, 3, 1, 4, 2, 6, 7, 8]\n",
            "Exploring the node:  [0, 5, 3, 1, 4, 2, 6, 7, 8]\n",
            "Exploring the node:  [1, 5, 3, 0, 4, 2, 6, 7, 8]\n",
            "Exploring the node:  [5, 3, 2, 1, 4, 8, 6, 7, 0]\n",
            "Exploring the node:  [1, 0, 5, 2, 3, 4, 6, 7, 8]\n",
            "Exploring the node:  [1, 0, 5, 4, 2, 3, 6, 7, 8]\n",
            "Exploring the node:  [1, 2, 0, 3, 5, 8, 6, 7, 4]\n",
            "Exploring the node:  [1, 2, 4, 3, 0, 8, 6, 7, 5]\n",
            "Exploring the node:  [1, 0, 4, 3, 2, 8, 6, 7, 5]\n",
            "Exploring the node:  [0, 1, 4, 3, 2, 8, 6, 7, 5]\n",
            "Exploring the node:  [1, 2, 4, 3, 5, 8, 6, 7, 0]\n",
            "Exploring the node:  [1, 2, 4, 3, 7, 5, 0, 6, 8]\n",
            "Exploring the node:  [1, 2, 4, 3, 7, 5, 6, 8, 0]\n",
            "Exploring the node:  [1, 2, 4, 3, 0, 5, 6, 8, 7]\n",
            "Exploring the node:  [1, 0, 4, 3, 2, 5, 6, 8, 7]\n",
            "Exploring the node:  [0, 1, 4, 3, 2, 5, 6, 8, 7]\n",
            "Exploring the node:  [1, 2, 4, 3, 8, 5, 6, 0, 7]\n",
            "Exploring the node:  [1, 2, 4, 6, 3, 5, 0, 7, 8]\n",
            "Exploring the node:  [1, 2, 5, 3, 8, 0, 6, 7, 4]\n",
            "Exploring the node:  [1, 2, 5, 3, 0, 8, 6, 7, 4]\n",
            "Exploring the node:  [1, 0, 5, 3, 2, 8, 6, 7, 4]\n",
            "Exploring the node:  [0, 1, 5, 3, 2, 8, 6, 7, 4]\n",
            "Exploring the node:  [1, 2, 5, 3, 8, 4, 6, 7, 0]\n",
            "Exploring the node:  [1, 2, 5, 3, 0, 4, 6, 7, 8]\n",
            "Exploring the node:  [1, 2, 5, 3, 4, 0, 6, 7, 8]\n",
            "Exploring the node:  [1, 2, 0, 3, 4, 5, 6, 7, 8]\n",
            "Exploring the node:  [1, 0, 2, 3, 4, 5, 6, 7, 8]\n",
            "Exploring the node:  [0, 1, 2, 3, 4, 5, 6, 7, 8]\n",
            "The goal :  [0, 1, 2, 3, 4, 5, 6, 7, 8]\n",
            "The number of nodes expanded=  192\n"
          ]
        },
        {
          "data": {
            "text/plain": [
              "[0, [0, 1, 2, 3, 4, 5, 6, 7, 8]]"
            ]
          },
          "execution_count": 27,
          "metadata": {},
          "output_type": "execute_result"
        }
      ],
      "source": [
        "initial = [1,8,2,3,4,5,6,7,0]# Define the initial state is a two elemet\n",
        "goal = [0,1,2,3,4,5,6,7,8] # one liter water in 5lt jug\n",
        "bestFirstSearch(initial,goal)"
      ]
    },
    {
      "cell_type": "code",
      "execution_count": null,
      "metadata": {
        "id": "Mq_IFv_xQodL"
      },
      "outputs": [],
      "source": []
    },
    {
      "cell_type": "code",
      "execution_count": null,
      "metadata": {
        "id": "aHHgwvdSQodL"
      },
      "outputs": [],
      "source": []
    },
    {
      "cell_type": "code",
      "execution_count": null,
      "metadata": {
        "id": "fyPmNqEDQodM"
      },
      "outputs": [],
      "source": []
    },
    {
      "cell_type": "code",
      "execution_count": null,
      "metadata": {
        "id": "QtOD4454QodM"
      },
      "outputs": [],
      "source": []
    }
  ],
  "metadata": {
    "colab": {
      "provenance": []
    },
    "kernelspec": {
      "display_name": "Python 3",
      "language": "python",
      "name": "python3"
    },
    "language_info": {
      "codemirror_mode": {
        "name": "ipython",
        "version": 3
      },
      "file_extension": ".py",
      "mimetype": "text/x-python",
      "name": "python",
      "nbconvert_exporter": "python",
      "pygments_lexer": "ipython3",
      "version": "3.11.3"
    }
  },
  "nbformat": 4,
  "nbformat_minor": 4
}
